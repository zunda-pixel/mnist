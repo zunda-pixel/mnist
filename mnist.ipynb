{
  "nbformat": 4,
  "nbformat_minor": 0,
  "metadata": {
    "accelerator": "GPU",
    "colab": {
      "name": "mnist.ipynb",
      "provenance": [],
      "collapsed_sections": [],
      "authorship_tag": "ABX9TyPWxbKUhI7z9+0cYw0KCjzn",
      "include_colab_link": true
    },
    "kernelspec": {
      "display_name": "Python 3",
      "name": "python3"
    }
  },
  "cells": [
    {
      "cell_type": "markdown",
      "metadata": {
        "id": "view-in-github",
        "colab_type": "text"
      },
      "source": [
        "<a href=\"https://colab.research.google.com/github/zunda-pixel/mnist/blob/main/mnist.ipynb\" target=\"_parent\"><img src=\"https://colab.research.google.com/assets/colab-badge.svg\" alt=\"Open In Colab\"/></a>"
      ]
    },
    {
      "cell_type": "code",
      "metadata": {
        "id": "Th9M7Fl4dAfT"
      },
      "source": [
        "import random\r\n",
        "import numpy as np\r\n",
        "import matplotlib.pyplot as plt\r\n",
        "from tensorflow.keras.models import Sequential\r\n",
        "from tensorflow.keras.layers import Dense, Dropout\r\n",
        "from tensorflow.keras.optimizers import RMSprop\r\n",
        "from tensorflow.config.experimental import list_physical_devices, set_memory_growth\r\n",
        "from tensorflow.keras.datasets import mnist\r\n",
        "from tensorflow.keras.utils import to_categorical"
      ],
      "execution_count": null,
      "outputs": []
    },
    {
      "cell_type": "code",
      "metadata": {
        "id": "r8ACpKQEdNty"
      },
      "source": [
        "physical_devices = list_physical_devices('GPU')\r\n",
        "if len(physical_devices) > 0:\r\n",
        "    for k in range(len(physical_devices)):\r\n",
        "        set_memory_growth(physical_devices[k], True)\r\n",
        "else:\r\n",
        "    print(\"Not enough GPU hardware devices available\")"
      ],
      "execution_count": null,
      "outputs": []
    },
    {
      "cell_type": "code",
      "metadata": {
        "id": "-gCMx8Iztd1W"
      },
      "source": [
        "(x_train, y_train), (x_test, y_test) = mnist.load_data()"
      ],
      "execution_count": null,
      "outputs": []
    },
    {
      "cell_type": "code",
      "metadata": {
        "colab": {
          "base_uri": "https://localhost:8080/",
          "height": 300
        },
        "id": "VzxvoOSP-7pV",
        "outputId": "d755b97b-58d7-4e42-8347-480256bfb180"
      },
      "source": [
        "number = random.randint(0, len(y_train))\r\n",
        "print('This image is ', y_train[number])\r\n",
        "plt.imshow(x_train[number])"
      ],
      "execution_count": null,
      "outputs": [
        {
          "output_type": "stream",
          "text": [
            "This image is  8\n"
          ],
          "name": "stdout"
        },
        {
          "output_type": "execute_result",
          "data": {
            "text/plain": [
              "<matplotlib.image.AxesImage at 0x7f9c79174e80>"
            ]
          },
          "metadata": {
            "tags": []
          },
          "execution_count": 383
        },
        {
          "output_type": "display_data",
          "data": {
            "image/png": "[encoded data removed]",
            "text/plain": [
              "<Figure size 432x288 with 1 Axes>"
            ]
          },
          "metadata": {
            "tags": []
          }
        }
      ]
    },
    {
      "cell_type": "code",
      "metadata": {
        "id": "-zf3TOzMt2KV"
      },
      "source": [
        "x_train = x_train.reshape(x_train.shape[0], x_train.shape[1] * x_train.shape[2])\r\n",
        "x_test  = x_test.reshape(x_test.shape[0],   x_test.shape[1]  * x_test.shape[2])\r\n",
        "\r\n",
        "x_train = x_train.astype('float32')\r\n",
        "x_test  = x_test.astype('float32')\r\n",
        "\r\n",
        "x_train /= 255\r\n",
        "x_test  /= 255\r\n",
        "\r\n",
        "num_classes = len(list(set(y_train)))"
      ],
      "execution_count": null,
      "outputs": []
    },
    {
      "cell_type": "code",
      "metadata": {
        "id": "VIBMIJD7u0O6"
      },
      "source": [
        "y_train = to_categorical(y_train, num_classes)\r\n",
        "y_test = to_categorical(y_test, num_classes)"
      ],
      "execution_count": null,
      "outputs": []
    },
    {
      "cell_type": "code",
      "metadata": {
        "id": "MhXNi5HnBSLd"
      },
      "source": [
        "input_shape = x_train[0].shape"
      ],
      "execution_count": null,
      "outputs": []
    },
    {
      "cell_type": "code",
      "metadata": {
        "id": "QcbFJKEhwgAZ"
      },
      "source": [
        "model = Sequential()\r\n",
        "model.add(Dense(512, activation='relu', input_shape=input_shape))\r\n",
        "model.add(Dropout(0.2))\r\n",
        "model.add(Dense(512, activation='relu'))\r\n",
        "model.add(Dropout(0.2))\r\n",
        "model.add(Dense(num_classes, activation='softmax'))"
      ],
      "execution_count": null,
      "outputs": []
    },
    {
      "cell_type": "code",
      "metadata": {
        "colab": {
          "base_uri": "https://localhost:8080/"
        },
        "id": "1nRLGZb7woxG",
        "outputId": "680fec4b-57db-45f0-beda-0bb8113b0175"
      },
      "source": [
        "model.summary()"
      ],
      "execution_count": null,
      "outputs": [
        {
          "output_type": "stream",
          "text": [
            "Model: \"sequential_27\"\n",
            "_________________________________________________________________\n",
            "Layer (type)                 Output Shape              Param #   \n",
            "=================================================================\n",
            "dense_75 (Dense)             (None, 512)               401920    \n",
            "_________________________________________________________________\n",
            "dropout_48 (Dropout)         (None, 512)               0         \n",
            "_________________________________________________________________\n",
            "dense_76 (Dense)             (None, 512)               262656    \n",
            "_________________________________________________________________\n",
            "dropout_49 (Dropout)         (None, 512)               0         \n",
            "_________________________________________________________________\n",
            "dense_77 (Dense)             (None, 10)                5130      \n",
            "=================================================================\n",
            "Total params: 669,706\n",
            "Trainable params: 669,706\n",
            "Non-trainable params: 0\n",
            "_________________________________________________________________\n"
          ],
          "name": "stdout"
        }
      ]
    },
    {
      "cell_type": "code",
      "metadata": {
        "id": "mvpXyioHw9WZ"
      },
      "source": [
        "model.compile(loss='categorical_crossentropy',\r\n",
        "              optimizer=RMSprop(),\r\n",
        "              metrics=['accuracy'])"
      ],
      "execution_count": null,
      "outputs": []
    },
    {
      "cell_type": "code",
      "metadata": {
        "id": "apdATNMDK8CY"
      },
      "source": [
        "batch_size = 16\r\n",
        "epochs = 10"
      ],
      "execution_count": null,
      "outputs": []
    },
    {
      "cell_type": "code",
      "metadata": {
        "colab": {
          "background_save": true,
          "base_uri": "https://localhost:8080/"
        },
        "id": "xN3q3kHFB9py",
        "outputId": "71c141f9-3bbd-4423-f3cf-cf513a7e9da7"
      },
      "source": [
        "history  = model.fit(x_train, y_train, batch_size=batch_size, epochs=epochs, verbose=1, validation_data=(x_test, y_test))"
      ],
      "execution_count": null,
      "outputs": [
        {
          "output_type": "stream",
          "text": [
            "Epoch 1/10\n",
            "3750/3750 [==============================] - 33s 9ms/step - loss: 0.3468 - accuracy: 0.8975 - val_loss: 0.1446 - val_accuracy: 0.9668\n",
            "Epoch 2/10\n",
            "3750/3750 [==============================] - 32s 8ms/step - loss: 0.1930 - accuracy: 0.9611 - val_loss: 0.1710 - val_accuracy: 0.9713\n",
            "Epoch 3/10\n",
            "3750/3750 [==============================] - 33s 9ms/step - loss: 0.1884 - accuracy: 0.9679 - val_loss: 0.1766 - val_accuracy: 0.9752\n",
            "Epoch 4/10\n",
            "3750/3750 [==============================] - 34s 9ms/step - loss: 0.1936 - accuracy: 0.9686 - val_loss: 0.1690 - val_accuracy: 0.9757\n",
            "Epoch 5/10\n",
            "3750/3750 [==============================] - 32s 9ms/step - loss: 0.1826 - accuracy: 0.9714 - val_loss: 0.2070 - val_accuracy: 0.9750\n",
            "Epoch 6/10\n",
            "3750/3750 [==============================] - 32s 9ms/step - loss: 0.1905 - accuracy: 0.9725 - val_loss: 0.2374 - val_accuracy: 0.9772\n",
            "Epoch 7/10\n",
            "3750/3750 [==============================] - 32s 8ms/step - loss: 0.1981 - accuracy: 0.9729 - val_loss: 0.2176 - val_accuracy: 0.9754\n",
            "Epoch 8/10\n",
            "3750/3750 [==============================] - 32s 8ms/step - loss: 0.1888 - accuracy: 0.9744 - val_loss: 0.2643 - val_accuracy: 0.9756\n",
            "Epoch 9/10\n",
            "3750/3750 [==============================] - 31s 8ms/step - loss: 0.1807 - accuracy: 0.9751 - val_loss: 0.3134 - val_accuracy: 0.9759\n",
            "Epoch 10/10\n",
            "3750/3750 [==============================] - 32s 8ms/step - loss: 0.1951 - accuracy: 0.9756 - val_loss: 0.2515 - val_accuracy: 0.9767\n"
          ],
          "name": "stdout"
        },
        {
          "output_type": "execute_result",
          "data": {
            "text/plain": [
              "<tensorflow.python.keras.callbacks.History at 0x7fc8b77fe1d0>"
            ]
          },
          "metadata": {
            "tags": []
          },
          "execution_count": 0
        }
      ]
    },
    {
      "cell_type": "code",
      "metadata": {
        "colab": {
          "background_save": true,
          "base_uri": "https://localhost:8080/"
        },
        "id": "E9ummOGkxVPv",
        "outputId": "4b3af033-2e82-4aaf-beee-2efd1946db61"
      },
      "source": [
        "score = model.evaluate(x_test, y_test, verbose=0)\r\n",
        "print('Test loss:', score[0])\r\n",
        "print('Test accuracy:', score[1])"
      ],
      "execution_count": null,
      "outputs": [
        {
          "output_type": "stream",
          "text": [
            "Test loss: 0.25146791338920593\n",
            "Test accuracy: 0.9767000079154968\n"
          ],
          "name": "stdout"
        }
      ]
    }
  ]
}